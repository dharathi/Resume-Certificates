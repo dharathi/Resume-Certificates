{
 "cells": [
  {
   "cell_type": "markdown",
   "id": "72064827",
   "metadata": {},
   "source": [
    "# Reading and understanding a Java program by your program\n",
    "\n",
    "To analyze a Java program, it is necessary to read Java source code from your program. Among many available libraries, one useful python library is `javalang` (https://github.com/c2nes/javalang). After installing the library by using `pip`, you try to use the following example:"
   ]
  },
  {
   "cell_type": "code",
   "execution_count": 4,
   "id": "4bed1710",
   "metadata": {},
   "outputs": [
    {
     "name": "stdout",
     "output_type": "stream",
     "text": [
      "CompilationUnit(imports=[], package=PackageDeclaration(annotations=None, documentation=None, modifiers=None, name=javalang.brewtab.com), types=[ClassDeclaration(annotations=[], body=[], documentation=None, extends=None, implements=None, modifiers=set(), name=Test, type_parameters=None)])\n"
     ]
    }
   ],
   "source": [
    "import javalang\n",
    "your_ast = javalang.parse.parse(\"package javalang.brewtab.com; class Test {}\")\n",
    "print(your_ast)"
   ]
  },
  {
   "cell_type": "markdown",
   "id": "d5a5a605-6d62-4bb5-a66a-cbd064854c8a",
   "metadata": {},
   "source": [
    "The `parse` function in `javalang.parse` package takes a string (i.e., source code text) and produces a tree-structured output of the given string. The output is an AST (abstract syntax tree). You can retrieve some specific information from the AST as well:"
   ]
  },
  {
   "cell_type": "code",
   "execution_count": 2,
   "id": "b38bdf0b",
   "metadata": {},
   "outputs": [
    {
     "name": "stdout",
     "output_type": "stream",
     "text": [
      "javalang.brewtab.com\n"
     ]
    }
   ],
   "source": [
    "print(your_ast.package.name)"
   ]
  },
  {
   "cell_type": "code",
   "execution_count": 3,
   "id": "13b3dc08-0371-4b12-8cc4-f423de9b23b5",
   "metadata": {},
   "outputs": [
    {
     "name": "stdout",
     "output_type": "stream",
     "text": [
      "ClassDeclaration(annotations=[], body=[], documentation=None, extends=None, implements=None, modifiers=set(), name=Test, type_parameters=None)\n"
     ]
    }
   ],
   "source": [
    "print(your_ast.types[0])"
   ]
  },
  {
   "cell_type": "code",
   "execution_count": 5,
   "id": "2d47ef26-176d-48ad-b171-d91d8e81f993",
   "metadata": {},
   "outputs": [
    {
     "name": "stdout",
     "output_type": "stream",
     "text": [
      "Test\n"
     ]
    }
   ],
   "source": [
    "print(your_ast.types[0].name)"
   ]
  },
  {
   "cell_type": "markdown",
   "id": "c69dbc12-a64f-42e1-83ec-37c774ec45f5",
   "metadata": {},
   "source": [
    "We can also try to parse a partial source code (snippet) of a Java program."
   ]
  },
  {
   "cell_type": "code",
   "execution_count": 6,
   "id": "68afbb28-646f-4555-b524-48585c9b37da",
   "metadata": {},
   "outputs": [
    {
     "ename": "JavaSyntaxError",
     "evalue": "",
     "output_type": "error",
     "traceback": [
      "\u001b[0;31m---------------------------------------------------------------------------\u001b[0m",
      "\u001b[0;31mJavaSyntaxError\u001b[0m                           Traceback (most recent call last)",
      "Cell \u001b[0;32mIn[6], line 1\u001b[0m\n\u001b[0;32m----> 1\u001b[0m partial_ast \u001b[38;5;241m=\u001b[39m \u001b[43mjavalang\u001b[49m\u001b[38;5;241;43m.\u001b[39;49m\u001b[43mparse\u001b[49m\u001b[38;5;241;43m.\u001b[39;49m\u001b[43mparse\u001b[49m\u001b[43m(\u001b[49m\u001b[38;5;124;43m\"\"\"\u001b[39;49m\u001b[38;5;124;43mSystem.out.println(\u001b[39;49m\u001b[38;5;124;43m\"\u001b[39;49m\u001b[38;5;124;43mHello \u001b[39;49m\u001b[38;5;124;43m\"\u001b[39;49m\u001b[38;5;124;43m + \u001b[39;49m\u001b[38;5;124;43m\"\u001b[39;49m\u001b[38;5;124;43mworld\u001b[39;49m\u001b[38;5;124;43m\"\u001b[39;49m\u001b[38;5;124;43m);\u001b[39;49m\u001b[38;5;124;43m\"\"\"\u001b[39;49m\u001b[43m)\u001b[49m\n\u001b[1;32m      2\u001b[0m \u001b[38;5;28mprint\u001b[39m(partial_ast)\n",
      "File \u001b[0;32m~/myenv/lib/python3.9/site-packages/javalang/parse.py:53\u001b[0m, in \u001b[0;36mparse\u001b[0;34m(s)\u001b[0m\n\u001b[1;32m     51\u001b[0m tokens \u001b[38;5;241m=\u001b[39m tokenize(s)\n\u001b[1;32m     52\u001b[0m parser \u001b[38;5;241m=\u001b[39m Parser(tokens)\n\u001b[0;32m---> 53\u001b[0m \u001b[38;5;28;01mreturn\u001b[39;00m \u001b[43mparser\u001b[49m\u001b[38;5;241;43m.\u001b[39;49m\u001b[43mparse\u001b[49m\u001b[43m(\u001b[49m\u001b[43m)\u001b[49m\n",
      "File \u001b[0;32m~/myenv/lib/python3.9/site-packages/javalang/parser.py:110\u001b[0m, in \u001b[0;36mParser.parse\u001b[0;34m(self)\u001b[0m\n\u001b[1;32m    109\u001b[0m \u001b[38;5;28;01mdef\u001b[39;00m \u001b[38;5;21mparse\u001b[39m(\u001b[38;5;28mself\u001b[39m):\n\u001b[0;32m--> 110\u001b[0m     \u001b[38;5;28;01mreturn\u001b[39;00m \u001b[38;5;28;43mself\u001b[39;49m\u001b[38;5;241;43m.\u001b[39;49m\u001b[43mparse_compilation_unit\u001b[49m\u001b[43m(\u001b[49m\u001b[43m)\u001b[49m\n",
      "File \u001b[0;32m~/myenv/lib/python3.9/site-packages/javalang/parser.py:302\u001b[0m, in \u001b[0;36mParser.parse_compilation_unit\u001b[0;34m(self)\u001b[0m\n\u001b[1;32m    300\u001b[0m \u001b[38;5;28;01mwhile\u001b[39;00m \u001b[38;5;129;01mnot\u001b[39;00m \u001b[38;5;28misinstance\u001b[39m(\u001b[38;5;28mself\u001b[39m\u001b[38;5;241m.\u001b[39mtokens\u001b[38;5;241m.\u001b[39mlook(), EndOfInput):\n\u001b[1;32m    301\u001b[0m     \u001b[38;5;28;01mtry\u001b[39;00m:\n\u001b[0;32m--> 302\u001b[0m         type_declaration \u001b[38;5;241m=\u001b[39m \u001b[38;5;28;43mself\u001b[39;49m\u001b[38;5;241;43m.\u001b[39;49m\u001b[43mparse_type_declaration\u001b[49m\u001b[43m(\u001b[49m\u001b[43m)\u001b[49m\n\u001b[1;32m    303\u001b[0m     \u001b[38;5;28;01mexcept\u001b[39;00m \u001b[38;5;167;01mStopIteration\u001b[39;00m:\n\u001b[1;32m    304\u001b[0m         \u001b[38;5;28mself\u001b[39m\u001b[38;5;241m.\u001b[39millegal(\u001b[38;5;124m\"\u001b[39m\u001b[38;5;124mUnexpected end of input\u001b[39m\u001b[38;5;124m\"\u001b[39m)\n",
      "File \u001b[0;32m~/myenv/lib/python3.9/site-packages/javalang/parser.py:347\u001b[0m, in \u001b[0;36mParser.parse_type_declaration\u001b[0;34m(self)\u001b[0m\n\u001b[1;32m    345\u001b[0m     \u001b[38;5;28;01mreturn\u001b[39;00m \u001b[38;5;28;01mNone\u001b[39;00m\n\u001b[1;32m    346\u001b[0m \u001b[38;5;28;01melse\u001b[39;00m:\n\u001b[0;32m--> 347\u001b[0m     \u001b[38;5;28;01mreturn\u001b[39;00m \u001b[38;5;28;43mself\u001b[39;49m\u001b[38;5;241;43m.\u001b[39;49m\u001b[43mparse_class_or_interface_declaration\u001b[49m\u001b[43m(\u001b[49m\u001b[43m)\u001b[49m\n",
      "File \u001b[0;32m~/myenv/lib/python3.9/site-packages/javalang/parser.py:364\u001b[0m, in \u001b[0;36mParser.parse_class_or_interface_declaration\u001b[0;34m(self)\u001b[0m\n\u001b[1;32m    362\u001b[0m     type_declaration \u001b[38;5;241m=\u001b[39m \u001b[38;5;28mself\u001b[39m\u001b[38;5;241m.\u001b[39mparse_annotation_type_declaration()\n\u001b[1;32m    363\u001b[0m \u001b[38;5;28;01melse\u001b[39;00m:\n\u001b[0;32m--> 364\u001b[0m     \u001b[38;5;28;43mself\u001b[39;49m\u001b[38;5;241;43m.\u001b[39;49m\u001b[43millegal\u001b[49m\u001b[43m(\u001b[49m\u001b[38;5;124;43m\"\u001b[39;49m\u001b[38;5;124;43mExpected type declaration\u001b[39;49m\u001b[38;5;124;43m\"\u001b[39;49m\u001b[43m)\u001b[49m\n\u001b[1;32m    366\u001b[0m type_declaration\u001b[38;5;241m.\u001b[39m_position \u001b[38;5;241m=\u001b[39m token\u001b[38;5;241m.\u001b[39mposition\n\u001b[1;32m    367\u001b[0m type_declaration\u001b[38;5;241m.\u001b[39mmodifiers \u001b[38;5;241m=\u001b[39m modifiers\n",
      "File \u001b[0;32m~/myenv/lib/python3.9/site-packages/javalang/parser.py:119\u001b[0m, in \u001b[0;36mParser.illegal\u001b[0;34m(self, description, at)\u001b[0m\n\u001b[1;32m    116\u001b[0m \u001b[38;5;28;01mif\u001b[39;00m \u001b[38;5;129;01mnot\u001b[39;00m at:\n\u001b[1;32m    117\u001b[0m     at \u001b[38;5;241m=\u001b[39m \u001b[38;5;28mself\u001b[39m\u001b[38;5;241m.\u001b[39mtokens\u001b[38;5;241m.\u001b[39mlook()\n\u001b[0;32m--> 119\u001b[0m \u001b[38;5;28;01mraise\u001b[39;00m JavaSyntaxError(description, at)\n",
      "\u001b[0;31mJavaSyntaxError\u001b[0m: "
     ]
    }
   ],
   "source": [
    "partial_ast = javalang.parse.parse(\"\"\"System.out.println(\"Hello \" + \"world\");\"\"\")\n",
    "print(partial_ast)"
   ]
  },
  {
   "cell_type": "markdown",
   "id": "58fef51b-3070-4503-960c-c672892838e2",
   "metadata": {},
   "source": [
    "Right, it is not working. You need to use the following functions:"
   ]
  },
  {
   "cell_type": "code",
   "execution_count": 7,
   "id": "f83e17db-6817-4db6-ae68-1f8f00c9bd7c",
   "metadata": {},
   "outputs": [
    {
     "data": {
      "text/plain": [
       "MethodInvocation(arguments=[BinaryOperation(operandl=Literal(postfix_operators=[], prefix_operators=[], qualifier=None, selectors=[], value=\"Hello \"), operandr=Literal(postfix_operators=[], prefix_operators=[], qualifier=None, selectors=[], value=\"world\"), operator=+)], member=println, postfix_operators=[], prefix_operators=[], qualifier=System.out, selectors=[], type_arguments=None)"
      ]
     },
     "execution_count": 7,
     "metadata": {},
     "output_type": "execute_result"
    }
   ],
   "source": [
    "# tokenize first,\n",
    "tokens = javalang.tokenizer.tokenize('System.out.println(\"Hello \" + \"world\");')\n",
    "# then parse it.\n",
    "parser = javalang.parser.Parser(tokens)\n",
    "parser.parse_expression()"
   ]
  },
  {
   "cell_type": "markdown",
   "id": "bce6b453-c6f7-47f0-829c-ac478d8d31ed",
   "metadata": {},
   "source": [
    "You can only parse appropriate types from a snippet:"
   ]
  },
  {
   "cell_type": "code",
   "execution_count": 8,
   "id": "8989b2ad-321a-4bbc-91c2-0b20c897dd62",
   "metadata": {},
   "outputs": [
    {
     "ename": "JavaSyntaxError",
     "evalue": "",
     "output_type": "error",
     "traceback": [
      "\u001b[0;31m---------------------------------------------------------------------------\u001b[0m",
      "\u001b[0;31mJavaSyntaxError\u001b[0m                           Traceback (most recent call last)",
      "Cell \u001b[0;32mIn[8], line 1\u001b[0m\n\u001b[0;32m----> 1\u001b[0m \u001b[43mparser\u001b[49m\u001b[38;5;241;43m.\u001b[39;49m\u001b[43mparse_identifier\u001b[49m\u001b[43m(\u001b[49m\u001b[43m)\u001b[49m\n",
      "File \u001b[0;32m~/myenv/lib/python3.9/site-packages/javalang/parser.py:232\u001b[0m, in \u001b[0;36mParser.parse_identifier\u001b[0;34m(self)\u001b[0m\n\u001b[1;32m    230\u001b[0m \u001b[38;5;129m@parse_debug\u001b[39m\n\u001b[1;32m    231\u001b[0m \u001b[38;5;28;01mdef\u001b[39;00m \u001b[38;5;21mparse_identifier\u001b[39m(\u001b[38;5;28mself\u001b[39m):\n\u001b[0;32m--> 232\u001b[0m     \u001b[38;5;28;01mreturn\u001b[39;00m \u001b[38;5;28;43mself\u001b[39;49m\u001b[38;5;241;43m.\u001b[39;49m\u001b[43maccept\u001b[49m\u001b[43m(\u001b[49m\u001b[43mIdentifier\u001b[49m\u001b[43m)\u001b[49m\n",
      "File \u001b[0;32m~/myenv/lib/python3.9/site-packages/javalang/parser.py:133\u001b[0m, in \u001b[0;36mParser.accept\u001b[0;34m(self, *accepts)\u001b[0m\n\u001b[1;32m    131\u001b[0m         \u001b[38;5;28mself\u001b[39m\u001b[38;5;241m.\u001b[39millegal(\u001b[38;5;124m\"\u001b[39m\u001b[38;5;124mExpected \u001b[39m\u001b[38;5;124m'\u001b[39m\u001b[38;5;132;01m%s\u001b[39;00m\u001b[38;5;124m'\u001b[39m\u001b[38;5;124m\"\u001b[39m \u001b[38;5;241m%\u001b[39m (accept,))\n\u001b[1;32m    132\u001b[0m     \u001b[38;5;28;01melif\u001b[39;00m \u001b[38;5;28misinstance\u001b[39m(accept, \u001b[38;5;28mtype\u001b[39m) \u001b[38;5;129;01mand\u001b[39;00m \u001b[38;5;129;01mnot\u001b[39;00m \u001b[38;5;28misinstance\u001b[39m(token, accept):\n\u001b[0;32m--> 133\u001b[0m         \u001b[38;5;28;43mself\u001b[39;49m\u001b[38;5;241;43m.\u001b[39;49m\u001b[43millegal\u001b[49m\u001b[43m(\u001b[49m\u001b[38;5;124;43m\"\u001b[39;49m\u001b[38;5;124;43mExpected \u001b[39;49m\u001b[38;5;132;43;01m%s\u001b[39;49;00m\u001b[38;5;124;43m\"\u001b[39;49m\u001b[43m \u001b[49m\u001b[38;5;241;43m%\u001b[39;49m\u001b[43m \u001b[49m\u001b[43m(\u001b[49m\u001b[43maccept\u001b[49m\u001b[38;5;241;43m.\u001b[39;49m\u001b[38;5;18;43m__name__\u001b[39;49m\u001b[43m,\u001b[49m\u001b[43m)\u001b[49m\u001b[43m)\u001b[49m\n\u001b[1;32m    135\u001b[0m     last \u001b[38;5;241m=\u001b[39m token\n\u001b[1;32m    137\u001b[0m \u001b[38;5;28;01mreturn\u001b[39;00m last\u001b[38;5;241m.\u001b[39mvalue\n",
      "File \u001b[0;32m~/myenv/lib/python3.9/site-packages/javalang/parser.py:119\u001b[0m, in \u001b[0;36mParser.illegal\u001b[0;34m(self, description, at)\u001b[0m\n\u001b[1;32m    116\u001b[0m \u001b[38;5;28;01mif\u001b[39;00m \u001b[38;5;129;01mnot\u001b[39;00m at:\n\u001b[1;32m    117\u001b[0m     at \u001b[38;5;241m=\u001b[39m \u001b[38;5;28mself\u001b[39m\u001b[38;5;241m.\u001b[39mtokens\u001b[38;5;241m.\u001b[39mlook()\n\u001b[0;32m--> 119\u001b[0m \u001b[38;5;28;01mraise\u001b[39;00m JavaSyntaxError(description, at)\n",
      "\u001b[0;31mJavaSyntaxError\u001b[0m: "
     ]
    }
   ],
   "source": [
    "parser.parse_identifier()"
   ]
  },
  {
   "cell_type": "markdown",
   "id": "7ecd6a9d-0bff-4a0a-b5b7-509401a6b352",
   "metadata": {},
   "source": [
    "Let's parse a larger program."
   ]
  },
  {
   "cell_type": "code",
   "execution_count": 9,
   "id": "f3d8f687-e560-4538-91cc-f5af1f7de432",
   "metadata": {},
   "outputs": [],
   "source": [
    "# large program\n",
    "\n",
    "large_program = \"\"\"\n",
    "import java.net.*;\n",
    "import java.awt.*;\n",
    "import java.util.*;\n",
    "import javax.swing.*;\n",
    "import java.awt.Font;\n",
    "import java.awt.event.*;\n",
    "import java.util.ArrayList;\n",
    "import java.io.IOException;\n",
    "import javax.imageio.ImageIO;\n",
    "import java.awt.event.ActionEvent;\n",
    "import java.awt.image.BufferedImage;\n",
    "import java.awt.event.ActionListener;\n",
    "\n",
    "import java.io.File;\n",
    "import java.io.IOException;\n",
    "import java.imageio.ImageIO;\n",
    "\n",
    "/**\n",
    "* /\n",
    "\n",
    "publ"
   ]
  },
  {
   "cell_type": "code",
   "execution_count": 10,
   "id": "7b8daa3c-039b-4a49-bac9-64ec77bdb3e7",
   "metadata": {},
   "outputs": [
    {
     "name": "stdout",
     "output_type": "stream",
     "text": [
      "() CompilationUnit(imports=[], package=PackageDeclaration(annotations=None, documentation=None, modifiers=None, name=javalang.brewtab.com), types=[ClassDeclaration(annotations=[], body=[], documentation=None, extends=None, implements=None, modifiers=set(), name=Test, type_parameters=None)])\n",
      "(CompilationUnit(imports=[], package=PackageDeclaration(annotations=None, documentation=None, modifiers=None, name=javalang.brewtab.com), types=[ClassDeclaration(annotations=[], body=[], documentation=None, extends=None, implements=None, modifiers=set(), name=Test, type_parameters=None)]),) PackageDeclaration(annotations=None, documentation=None, modifiers=None, name=javalang.brewtab.com)\n",
      "(CompilationUnit(imports=[], package=PackageDeclaration(annotations=None, documentation=None, modifiers=None, name=javalang.brewtab.com), types=[ClassDeclaration(annotations=[], body=[], documentation=None, extends=None, implements=None, modifiers=set(), name=Test, type_parameters=None)]), [ClassDeclaration(annotations=[], body=[], documentation=None, extends=None, implements=None, modifiers=set(), name=Test, type_parameters=None)]) ClassDeclaration(annotations=[], body=[], documentation=None, extends=None, implements=None, modifiers=set(), name=Test, type_parameters=None)\n"
     ]
    }
   ],
   "source": [
    "for path, node in your_ast:\n",
    "    print(path, node)"
   ]
  },
  {
   "cell_type": "code",
   "execution_count": 12,
   "id": "144e7c38-18c8-478c-bd6b-f33e3b771f80",
   "metadata": {},
   "outputs": [],
   "source": [
    "for path, node in your_ast:\n",
    "    if(isinstance(node,javalang.tree.Import)):  #instance is a function returns true if the specific\n",
    "        print(node.wildcard)\n",
    "        print(node.static)"
   ]
  },
  {
   "cell_type": "code",
   "execution_count": 13,
   "id": "31ef777b-2d0f-471d-999c-e5af49451886",
   "metadata": {},
   "outputs": [
    {
     "name": "stdout",
     "output_type": "stream",
     "text": [
      "Test\n"
     ]
    }
   ],
   "source": [
    "for path, node in your_ast:\n",
    "    if(isinstance(node,javalang.tree.ClassDeclaration)):   #in class decalration\n",
    "        print(node.name)"
   ]
  },
  {
   "cell_type": "code",
   "execution_count": 14,
   "id": "a1af6ce2-3427-42ba-9b7f-176f27cb365d",
   "metadata": {},
   "outputs": [],
   "source": [
    "for path, node in your_ast:\n",
    "    if(isinstance(node, javalang.tree.ClassDeclaration)): #in the Class Declaration\n",
    "        for method in node.methods:\n",
    "            print(method.name)"
   ]
  },
  {
   "cell_type": "code",
   "execution_count": 15,
   "id": "21e6c603-acc6-4c97-903b-d98795503459",
   "metadata": {},
   "outputs": [
    {
     "name": "stdout",
     "output_type": "stream",
     "text": [
      "0\n"
     ]
    }
   ],
   "source": [
    "for path, node in your_ast:\n",
    "    if(isinstance(node, javalang.tree.ClassDeclaration)): #in the Field Declaration\n",
    "        print(len(node.fields))"
   ]
  },
  {
   "cell_type": "code",
   "execution_count": 16,
   "id": "89acb4ba-3c13-4f8f-83c9-bd10873f4917",
   "metadata": {},
   "outputs": [
    {
     "name": "stdout",
     "output_type": "stream",
     "text": [
      "Test\n"
     ]
    }
   ],
   "source": [
    "for path, node in your_ast:\n",
    "    if(isinstance(node, javalang.tree.ClassDeclaration)): #in the Class Declaration\n",
    "        print(node.name)"
   ]
  },
  {
   "cell_type": "code",
   "execution_count": 17,
   "id": "6d95b779-4b53-4dd6-ac50-2bd05d4af012",
   "metadata": {},
   "outputs": [],
   "source": [
    "for path,node in your_ast:\n",
    "    if(isinstance(node,javalang.tree.Import)):  #isinstance is a function unction returns True if the specified object is of the specified type, otherwise False.If the type parameter is a tuple, this function will return True if the object is one of the types in the tuple.\n",
    "        print(node.wildcard) # but apparently there are no wildcards????\n",
    "        print(node.static) #he changed something in the code to see True and False but idk"
   ]
  },
  {
   "cell_type": "code",
   "execution_count": null,
   "id": "65818b80-5b6b-4b89-9211-646c3f369eae",
   "metadata": {},
   "outputs": [],
   "source": []
  }
 ],
 "metadata": {
  "kernelspec": {
   "display_name": "Python 3 (ipykernel)",
   "language": "python",
   "name": "python3"
  },
  "language_info": {
   "codemirror_mode": {
    "name": "ipython",
    "version": 3
   },
   "file_extension": ".py",
   "mimetype": "text/x-python",
   "name": "python",
   "nbconvert_exporter": "python",
   "pygments_lexer": "ipython3",
   "version": "3.9.6"
  }
 },
 "nbformat": 4,
 "nbformat_minor": 5
}
